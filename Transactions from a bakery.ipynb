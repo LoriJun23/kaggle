{
 "cells": [
  {
   "cell_type": "code",
   "execution_count": 5,
   "metadata": {},
   "outputs": [
    {
     "name": "stdout",
     "output_type": "stream",
     "text": [
      "['BreadBasket_DMS.csv', 'sharing bike demand', 'titanic', 'vscode']\n"
     ]
    }
   ],
   "source": [
    "# Inclusion Of Required Libraries\n",
    "\n",
    "# linear algebra\n",
    "import numpy as np \n",
    "\n",
    "# data processing, CSV file I/O (e.g. pd.read_csv)\n",
    "import pandas as pd \n",
    "\n",
    "import matplotlib.pyplot as plt\n",
    "\n",
    "# Input data files are available in the \"../input/\" directory.\n",
    "# For example, running this (by clicking run or pressing Shift+Enter) will list the files in the input directory\n",
    "\n",
    "import os\n",
    "print(os.listdir(\"C:/Users/SAMSUNG/Desktop/example\"))\n",
    "\n",
    "# Any results you write to the current directory are saved as output."
   ]
  },
  {
   "cell_type": "markdown",
   "metadata": {},
   "source": [
    "날짜: 트랜잭션의 날짜를 알려주는 범주형 변수입니다(YYYY-MM-DD 형식). 이 열에는 2011년 30월 10일부터 2014년 09월 7일까지의 날짜가 포함됩니다.\n",
    "\n",
    "시간: 트랜잭션의 시간을 알려주는 범주형 변수입니다(HH:MM:SS 형식).\n",
    "\n",
    "트랜잭션: 트랜잭션을 구분할 수 있는 정량적 변수입니다. 이 필드에서 동일한 값을 공유하는 행은 동일한 트랜잭션에 속하므로 데이터 집합이 관측치보다 트랜잭션이 적습니다.\n",
    "\n",
    "항목: 제품의 범주형 변수입니다."
   ]
  },
  {
   "cell_type": "code",
   "execution_count": 6,
   "metadata": {},
   "outputs": [],
   "source": [
    "data = pd.read_csv('C:/Users/SAMSUNG/Desktop/example/BreadBasket_DMS.csv')"
   ]
  },
  {
   "cell_type": "code",
   "execution_count": 7,
   "metadata": {},
   "outputs": [
    {
     "name": "stdout",
     "output_type": "stream",
     "text": [
      "<class 'pandas.core.frame.DataFrame'>\n",
      "RangeIndex: 21293 entries, 0 to 21292\n",
      "Data columns (total 4 columns):\n",
      "Date           21293 non-null object\n",
      "Time           21293 non-null object\n",
      "Transaction    21293 non-null int64\n",
      "Item           21293 non-null object\n",
      "dtypes: int64(1), object(3)\n",
      "memory usage: 415.9+ KB\n"
     ]
    }
   ],
   "source": [
    "data.info()"
   ]
  },
  {
   "cell_type": "code",
   "execution_count": 8,
   "metadata": {},
   "outputs": [
    {
     "data": {
      "text/plain": [
       "Index(['Date', 'Time', 'Transaction', 'Item'], dtype='object')"
      ]
     },
     "execution_count": 8,
     "metadata": {},
     "output_type": "execute_result"
    }
   ],
   "source": [
    "data.columns"
   ]
  },
  {
   "cell_type": "code",
   "execution_count": 9,
   "metadata": {},
   "outputs": [
    {
     "name": "stdout",
     "output_type": "stream",
     "text": [
      "List of Items sold at the Bakery:\n",
      "Total Items:  95\n",
      "---------------\n",
      "Bread\n",
      "Scandinavian\n",
      "Hot chocolate\n",
      "Jam\n",
      "Cookies\n",
      "Muffin\n",
      "Coffee\n",
      "Pastry\n",
      "Medialuna\n",
      "Tea\n",
      "NONE\n",
      "Tartine\n",
      "Basket\n",
      "Mineral water\n",
      "Farm House\n",
      "Fudge\n",
      "Juice\n",
      "Ella's Kitchen Pouches\n",
      "Victorian Sponge\n",
      "Frittata\n",
      "Hearty & Seasonal\n",
      "Soup\n",
      "Pick and Mix Bowls\n",
      "Smoothies\n",
      "Cake\n",
      "Mighty Protein\n",
      "Chicken sand\n",
      "Coke\n",
      "My-5 Fruit Shoot\n",
      "Focaccia\n",
      "Sandwich\n",
      "Alfajores\n",
      "Eggs\n",
      "Brownie\n",
      "Dulce de Leche\n",
      "Honey\n",
      "The BART\n",
      "Granola\n",
      "Fairy Doors\n",
      "Empanadas\n",
      "Keeping It Local\n",
      "Art Tray\n",
      "Bowl Nic Pitt\n",
      "Bread Pudding\n",
      "Adjustment\n",
      "Truffles\n",
      "Chimichurri Oil\n",
      "Bacon\n",
      "Spread\n",
      "Kids biscuit\n",
      "Siblings\n",
      "Caramel bites\n",
      "Jammie Dodgers\n",
      "Tiffin\n",
      "Olum & polenta\n",
      "Polenta\n",
      "The Nomad\n",
      "Hack the stack\n",
      "Bakewell\n",
      "Lemon and coconut\n",
      "Toast\n",
      "Scone\n",
      "Crepes\n",
      "Vegan mincepie\n",
      "Bare Popcorn\n",
      "Muesli\n",
      "Crisps\n",
      "Pintxos\n",
      "Gingerbread syrup\n",
      "Panatone\n",
      "Brioche and salami\n",
      "Afternoon with the baker\n",
      "Salad\n",
      "Chicken Stew\n",
      "Spanish Brunch\n",
      "Raspberry shortbread sandwich\n",
      "Extra Salami or Feta\n",
      "Duck egg\n",
      "Baguette\n",
      "Valentine's card\n",
      "Tshirt\n",
      "Vegan Feast\n",
      "Postcard\n",
      "Nomad bag\n",
      "Chocolates\n",
      "Coffee granules \n",
      "Drinking chocolate spoons \n",
      "Christmas common\n",
      "Argentina Night\n",
      "Half slice Monster \n",
      "Gift voucher\n",
      "Cherry me Dried fruit\n",
      "Mortimer\n",
      "Raw bars\n",
      "Tacos/Fajita\n"
     ]
    }
   ],
   "source": [
    "print(\"List of Items sold at the Bakery:\")\n",
    "print(\"Total Items: \",len(data.Item.unique()))\n",
    "print(\"-\"*15)\n",
    "for i in data.Item.unique():\n",
    "    print(i)\n"
   ]
  },
  {
   "cell_type": "code",
   "execution_count": 10,
   "metadata": {},
   "outputs": [
    {
     "data": {
      "text/html": [
       "<div>\n",
       "<style scoped>\n",
       "    .dataframe tbody tr th:only-of-type {\n",
       "        vertical-align: middle;\n",
       "    }\n",
       "\n",
       "    .dataframe tbody tr th {\n",
       "        vertical-align: top;\n",
       "    }\n",
       "\n",
       "    .dataframe thead th {\n",
       "        text-align: right;\n",
       "    }\n",
       "</style>\n",
       "<table border=\"1\" class=\"dataframe\">\n",
       "  <thead>\n",
       "    <tr style=\"text-align: right;\">\n",
       "      <th></th>\n",
       "      <th>Date</th>\n",
       "      <th>Time</th>\n",
       "      <th>Transaction</th>\n",
       "      <th>Item</th>\n",
       "    </tr>\n",
       "  </thead>\n",
       "  <tbody>\n",
       "    <tr>\n",
       "      <th>count</th>\n",
       "      <td>21293</td>\n",
       "      <td>21293</td>\n",
       "      <td>21293.000000</td>\n",
       "      <td>21293</td>\n",
       "    </tr>\n",
       "    <tr>\n",
       "      <th>unique</th>\n",
       "      <td>159</td>\n",
       "      <td>8240</td>\n",
       "      <td>NaN</td>\n",
       "      <td>95</td>\n",
       "    </tr>\n",
       "    <tr>\n",
       "      <th>top</th>\n",
       "      <td>2017-02-04</td>\n",
       "      <td>12:07:39</td>\n",
       "      <td>NaN</td>\n",
       "      <td>Coffee</td>\n",
       "    </tr>\n",
       "    <tr>\n",
       "      <th>freq</th>\n",
       "      <td>302</td>\n",
       "      <td>16</td>\n",
       "      <td>NaN</td>\n",
       "      <td>5471</td>\n",
       "    </tr>\n",
       "    <tr>\n",
       "      <th>mean</th>\n",
       "      <td>NaN</td>\n",
       "      <td>NaN</td>\n",
       "      <td>4951.990889</td>\n",
       "      <td>NaN</td>\n",
       "    </tr>\n",
       "    <tr>\n",
       "      <th>std</th>\n",
       "      <td>NaN</td>\n",
       "      <td>NaN</td>\n",
       "      <td>2787.758400</td>\n",
       "      <td>NaN</td>\n",
       "    </tr>\n",
       "    <tr>\n",
       "      <th>min</th>\n",
       "      <td>NaN</td>\n",
       "      <td>NaN</td>\n",
       "      <td>1.000000</td>\n",
       "      <td>NaN</td>\n",
       "    </tr>\n",
       "    <tr>\n",
       "      <th>25%</th>\n",
       "      <td>NaN</td>\n",
       "      <td>NaN</td>\n",
       "      <td>2548.000000</td>\n",
       "      <td>NaN</td>\n",
       "    </tr>\n",
       "    <tr>\n",
       "      <th>50%</th>\n",
       "      <td>NaN</td>\n",
       "      <td>NaN</td>\n",
       "      <td>5067.000000</td>\n",
       "      <td>NaN</td>\n",
       "    </tr>\n",
       "    <tr>\n",
       "      <th>75%</th>\n",
       "      <td>NaN</td>\n",
       "      <td>NaN</td>\n",
       "      <td>7329.000000</td>\n",
       "      <td>NaN</td>\n",
       "    </tr>\n",
       "    <tr>\n",
       "      <th>max</th>\n",
       "      <td>NaN</td>\n",
       "      <td>NaN</td>\n",
       "      <td>9684.000000</td>\n",
       "      <td>NaN</td>\n",
       "    </tr>\n",
       "  </tbody>\n",
       "</table>\n",
       "</div>"
      ],
      "text/plain": [
       "              Date      Time   Transaction    Item\n",
       "count        21293     21293  21293.000000   21293\n",
       "unique         159      8240           NaN      95\n",
       "top     2017-02-04  12:07:39           NaN  Coffee\n",
       "freq           302        16           NaN    5471\n",
       "mean           NaN       NaN   4951.990889     NaN\n",
       "std            NaN       NaN   2787.758400     NaN\n",
       "min            NaN       NaN      1.000000     NaN\n",
       "25%            NaN       NaN   2548.000000     NaN\n",
       "50%            NaN       NaN   5067.000000     NaN\n",
       "75%            NaN       NaN   7329.000000     NaN\n",
       "max            NaN       NaN   9684.000000     NaN"
      ]
     },
     "execution_count": 10,
     "metadata": {},
     "output_type": "execute_result"
    }
   ],
   "source": [
    "data.describe(include='all')"
   ]
  },
  {
   "cell_type": "code",
   "execution_count": 11,
   "metadata": {},
   "outputs": [
    {
     "data": {
      "text/plain": [
       "786"
      ]
     },
     "execution_count": 11,
     "metadata": {},
     "output_type": "execute_result"
    }
   ],
   "source": [
    "len(data.loc[data[\"Item\"] == \"NONE\",:])"
   ]
  },
  {
   "cell_type": "code",
   "execution_count": 12,
   "metadata": {},
   "outputs": [
    {
     "data": {
      "text/html": [
       "<div>\n",
       "<style scoped>\n",
       "    .dataframe tbody tr th:only-of-type {\n",
       "        vertical-align: middle;\n",
       "    }\n",
       "\n",
       "    .dataframe tbody tr th {\n",
       "        vertical-align: top;\n",
       "    }\n",
       "\n",
       "    .dataframe thead th {\n",
       "        text-align: right;\n",
       "    }\n",
       "</style>\n",
       "<table border=\"1\" class=\"dataframe\">\n",
       "  <thead>\n",
       "    <tr style=\"text-align: right;\">\n",
       "      <th></th>\n",
       "      <th>Date</th>\n",
       "      <th>Time</th>\n",
       "      <th>Transaction</th>\n",
       "      <th>Item</th>\n",
       "    </tr>\n",
       "  </thead>\n",
       "  <tbody>\n",
       "    <tr>\n",
       "      <th>26</th>\n",
       "      <td>2016-10-30</td>\n",
       "      <td>10:27:21</td>\n",
       "      <td>11</td>\n",
       "      <td>NONE</td>\n",
       "    </tr>\n",
       "    <tr>\n",
       "      <th>38</th>\n",
       "      <td>2016-10-30</td>\n",
       "      <td>10:34:36</td>\n",
       "      <td>15</td>\n",
       "      <td>NONE</td>\n",
       "    </tr>\n",
       "    <tr>\n",
       "      <th>39</th>\n",
       "      <td>2016-10-30</td>\n",
       "      <td>10:34:36</td>\n",
       "      <td>15</td>\n",
       "      <td>NONE</td>\n",
       "    </tr>\n",
       "    <tr>\n",
       "      <th>66</th>\n",
       "      <td>2016-10-30</td>\n",
       "      <td>11:05:30</td>\n",
       "      <td>29</td>\n",
       "      <td>NONE</td>\n",
       "    </tr>\n",
       "    <tr>\n",
       "      <th>80</th>\n",
       "      <td>2016-10-30</td>\n",
       "      <td>11:37:10</td>\n",
       "      <td>37</td>\n",
       "      <td>NONE</td>\n",
       "    </tr>\n",
       "    <tr>\n",
       "      <th>85</th>\n",
       "      <td>2016-10-30</td>\n",
       "      <td>11:55:51</td>\n",
       "      <td>40</td>\n",
       "      <td>NONE</td>\n",
       "    </tr>\n",
       "    <tr>\n",
       "      <th>126</th>\n",
       "      <td>2016-10-30</td>\n",
       "      <td>13:02:04</td>\n",
       "      <td>59</td>\n",
       "      <td>NONE</td>\n",
       "    </tr>\n",
       "    <tr>\n",
       "      <th>140</th>\n",
       "      <td>2016-10-30</td>\n",
       "      <td>13:37:25</td>\n",
       "      <td>65</td>\n",
       "      <td>NONE</td>\n",
       "    </tr>\n",
       "    <tr>\n",
       "      <th>149</th>\n",
       "      <td>2016-10-30</td>\n",
       "      <td>13:46:48</td>\n",
       "      <td>67</td>\n",
       "      <td>NONE</td>\n",
       "    </tr>\n",
       "    <tr>\n",
       "      <th>167</th>\n",
       "      <td>2016-10-30</td>\n",
       "      <td>14:32:26</td>\n",
       "      <td>75</td>\n",
       "      <td>NONE</td>\n",
       "    </tr>\n",
       "  </tbody>\n",
       "</table>\n",
       "</div>"
      ],
      "text/plain": [
       "           Date      Time  Transaction  Item\n",
       "26   2016-10-30  10:27:21           11  NONE\n",
       "38   2016-10-30  10:34:36           15  NONE\n",
       "39   2016-10-30  10:34:36           15  NONE\n",
       "66   2016-10-30  11:05:30           29  NONE\n",
       "80   2016-10-30  11:37:10           37  NONE\n",
       "85   2016-10-30  11:55:51           40  NONE\n",
       "126  2016-10-30  13:02:04           59  NONE\n",
       "140  2016-10-30  13:37:25           65  NONE\n",
       "149  2016-10-30  13:46:48           67  NONE\n",
       "167  2016-10-30  14:32:26           75  NONE"
      ]
     },
     "execution_count": 12,
     "metadata": {},
     "output_type": "execute_result"
    }
   ],
   "source": [
    "data.loc[data[\"Item\"] == \"NONE\",:].head(10)"
   ]
  },
  {
   "cell_type": "code",
   "execution_count": 13,
   "metadata": {},
   "outputs": [
    {
     "data": {
      "text/html": [
       "<div>\n",
       "<style scoped>\n",
       "    .dataframe tbody tr th:only-of-type {\n",
       "        vertical-align: middle;\n",
       "    }\n",
       "\n",
       "    .dataframe tbody tr th {\n",
       "        vertical-align: top;\n",
       "    }\n",
       "\n",
       "    .dataframe thead th {\n",
       "        text-align: right;\n",
       "    }\n",
       "</style>\n",
       "<table border=\"1\" class=\"dataframe\">\n",
       "  <thead>\n",
       "    <tr style=\"text-align: right;\">\n",
       "      <th></th>\n",
       "      <th>Date</th>\n",
       "      <th>Time</th>\n",
       "      <th>Transaction</th>\n",
       "      <th>Item</th>\n",
       "    </tr>\n",
       "  </thead>\n",
       "  <tbody>\n",
       "    <tr>\n",
       "      <th>20919</th>\n",
       "      <td>2017-04-07</td>\n",
       "      <td>08:57:19</td>\n",
       "      <td>9507</td>\n",
       "      <td>NONE</td>\n",
       "    </tr>\n",
       "    <tr>\n",
       "      <th>20964</th>\n",
       "      <td>2017-04-07</td>\n",
       "      <td>13:06:01</td>\n",
       "      <td>9529</td>\n",
       "      <td>NONE</td>\n",
       "    </tr>\n",
       "    <tr>\n",
       "      <th>21010</th>\n",
       "      <td>2017-04-07</td>\n",
       "      <td>17:30:07</td>\n",
       "      <td>9550</td>\n",
       "      <td>NONE</td>\n",
       "    </tr>\n",
       "    <tr>\n",
       "      <th>21077</th>\n",
       "      <td>2017-04-08</td>\n",
       "      <td>10:44:44</td>\n",
       "      <td>9579</td>\n",
       "      <td>NONE</td>\n",
       "    </tr>\n",
       "    <tr>\n",
       "      <th>21080</th>\n",
       "      <td>2017-04-08</td>\n",
       "      <td>10:48:43</td>\n",
       "      <td>9580</td>\n",
       "      <td>NONE</td>\n",
       "    </tr>\n",
       "    <tr>\n",
       "      <th>21108</th>\n",
       "      <td>2017-04-08</td>\n",
       "      <td>11:54:22</td>\n",
       "      <td>9590</td>\n",
       "      <td>NONE</td>\n",
       "    </tr>\n",
       "    <tr>\n",
       "      <th>21122</th>\n",
       "      <td>2017-04-08</td>\n",
       "      <td>12:58:25</td>\n",
       "      <td>9599</td>\n",
       "      <td>NONE</td>\n",
       "    </tr>\n",
       "    <tr>\n",
       "      <th>21254</th>\n",
       "      <td>2017-04-09</td>\n",
       "      <td>12:01:07</td>\n",
       "      <td>9666</td>\n",
       "      <td>NONE</td>\n",
       "    </tr>\n",
       "    <tr>\n",
       "      <th>21255</th>\n",
       "      <td>2017-04-09</td>\n",
       "      <td>12:04:13</td>\n",
       "      <td>9667</td>\n",
       "      <td>NONE</td>\n",
       "    </tr>\n",
       "    <tr>\n",
       "      <th>21266</th>\n",
       "      <td>2017-04-09</td>\n",
       "      <td>12:31:28</td>\n",
       "      <td>9672</td>\n",
       "      <td>NONE</td>\n",
       "    </tr>\n",
       "  </tbody>\n",
       "</table>\n",
       "</div>"
      ],
      "text/plain": [
       "             Date      Time  Transaction  Item\n",
       "20919  2017-04-07  08:57:19         9507  NONE\n",
       "20964  2017-04-07  13:06:01         9529  NONE\n",
       "21010  2017-04-07  17:30:07         9550  NONE\n",
       "21077  2017-04-08  10:44:44         9579  NONE\n",
       "21080  2017-04-08  10:48:43         9580  NONE\n",
       "21108  2017-04-08  11:54:22         9590  NONE\n",
       "21122  2017-04-08  12:58:25         9599  NONE\n",
       "21254  2017-04-09  12:01:07         9666  NONE\n",
       "21255  2017-04-09  12:04:13         9667  NONE\n",
       "21266  2017-04-09  12:31:28         9672  NONE"
      ]
     },
     "execution_count": 13,
     "metadata": {},
     "output_type": "execute_result"
    }
   ],
   "source": [
    "data.loc[data[\"Item\"] == \"NONE\",:].tail(10)"
   ]
  },
  {
   "cell_type": "code",
   "execution_count": 14,
   "metadata": {},
   "outputs": [
    {
     "data": {
      "text/plain": [
       "Coffee           5471\n",
       "Bread            3325\n",
       "Tea              1435\n",
       "Cake             1025\n",
       "Pastry            856\n",
       "NONE              786\n",
       "Sandwich          771\n",
       "Medialuna         616\n",
       "Hot chocolate     590\n",
       "Cookies           540\n",
       "Name: Item, dtype: int64"
      ]
     },
     "execution_count": 14,
     "metadata": {},
     "output_type": "execute_result"
    }
   ],
   "source": [
    "data[\"Item\"].value_counts().head(10)"
   ]
  },
  {
   "cell_type": "code",
   "execution_count": 15,
   "metadata": {},
   "outputs": [
    {
     "data": {
      "image/png": "[encoded data removed]",
      "text/plain": [
       "<Figure size 720x720 with 1 Axes>"
      ]
     },
     "metadata": {},
     "output_type": "display_data"
    }
   ],
   "source": [
    "# Pie Chart\n",
    "plt.figure(1, figsize=(10,10))\n",
    "data['Item'].value_counts().head(15).plot.pie(autopct=\"%1.1f%%\")\n",
    "plt.show()"
   ]
  },
  {
   "cell_type": "code",
   "execution_count": 16,
   "metadata": {},
   "outputs": [],
   "source": [
    "itemNames = data['Item'].value_counts().index\n",
    "itemValues = data['Item'].value_counts().values"
   ]
  },
  {
   "cell_type": "code",
   "execution_count": 17,
   "metadata": {},
   "outputs": [
    {
     "data": {
      "image/png": "[encoded data removed]",
      "text/plain": [
       "<Figure size 864x864 with 1 Axes>"
      ]
     },
     "metadata": {
      "needs_background": "light"
     },
     "output_type": "display_data"
    }
   ],
   "source": [
    "plt.figure(figsize=(12,12))\n",
    "plt.ylabel('Values', fontsize='medium')\n",
    "plt.xlabel('Items', fontsize='medium')\n",
    "plt.title('Top 20 Sell Bakery Items')\n",
    "plt.bar(itemNames[:10],itemValues[:10], width = 0.7, color=\"blue\",linewidth=0.4)\n",
    "plt.show()"
   ]
  },
  {
   "cell_type": "code",
   "execution_count": 18,
   "metadata": {},
   "outputs": [
    {
     "data": {
      "image/png": "[encoded data removed]",
      "text/plain": [
       "<Figure size 864x864 with 1 Axes>"
      ]
     },
     "metadata": {
      "needs_background": "light"
     },
     "output_type": "display_data"
    }
   ],
   "source": [
    "fig, ax = plt.subplots(figsize=(12,12))\n",
    "plt.style.use('fivethirtyeight')\n",
    "ax.barh(itemNames[:5], itemValues[:5])\n",
    "plt.show()"
   ]
  },
  {
   "cell_type": "code",
   "execution_count": 19,
   "metadata": {},
   "outputs": [
    {
     "name": "stdout",
     "output_type": "stream",
     "text": [
      "This is night sales:  152\n"
     ]
    }
   ],
   "source": [
    "firstMorning = data.loc[(data['Time']>='06:00:00')&(data['Time']<'09:00:00')]\n",
    "secondMorning = data.loc[(data['Time']>='09:00:00')&(data['Time']<'12:00:00')]\n",
    "firstAfternoon = data.loc[(data['Time']>='12:00:00')&(data['Time']<'15:00:00')]\n",
    "secondAfternoon = data.loc[(data['Time']>='15:00:00')&(data['Time']<'18:00:00')]\n",
    "night = data.loc[(data['Time']>='18:00:00')&(data['Time']<'21:00:00')]\n",
    "\n",
    "hourlySales = {'firstMorning': len(firstMorning), 'secondMorning': len(secondMorning), \n",
    "               'firstAfternoon': len(firstAfternoon),'secondAfternoon': len(secondAfternoon),\n",
    "               'night': len(night)}\n",
    "\n",
    "print(\"This is night sales: \", hourlySales['night'])"
   ]
  },
  {
   "cell_type": "code",
   "execution_count": 20,
   "metadata": {},
   "outputs": [
    {
     "data": {
      "image/png": "[encoded data removed]",
      "text/plain": [
       "<Figure size 720x720 with 1 Axes>"
      ]
     },
     "metadata": {},
     "output_type": "display_data"
    }
   ],
   "source": [
    "fig, ax = plt.subplots(figsize=(10,10))\n",
    "ax.barh(list(hourlySales.keys()), list(hourlySales.values()), align='center')\n",
    "\n",
    "plt.show()"
   ]
  },
  {
   "cell_type": "code",
   "execution_count": 21,
   "metadata": {},
   "outputs": [
    {
     "name": "stdout",
     "output_type": "stream",
     "text": [
      "Coffee           212\n",
      "Bread            173\n",
      "Pastry            59\n",
      "Medialuna         49\n",
      "NONE              25\n",
      "Toast             24\n",
      "Tea               21\n",
      "Farm House        13\n",
      "Cookies           12\n",
      "Hot chocolate      9\n",
      "Baguette           8\n",
      "Cake               8\n",
      "Jam                7\n",
      "Scandinavian       6\n",
      "Scone              6\n",
      "Name: Item, dtype: int64\n"
     ]
    }
   ],
   "source": [
    "print(firstMorning['Item'].value_counts().head(15))"
   ]
  },
  {
   "cell_type": "code",
   "execution_count": 22,
   "metadata": {},
   "outputs": [
    {
     "data": {
      "image/png": "[encoded data removed]",
      "text/plain": [
       "<Figure size 720x720 with 1 Axes>"
      ]
     },
     "metadata": {},
     "output_type": "display_data"
    }
   ],
   "source": [
    "# Bar Plot\n",
    "plt.figure(figsize=(10,10))\n",
    "plt.ylabel('Values', fontsize='medium')\n",
    "plt.xlabel('Items', fontsize='medium')\n",
    "plt.title('first Morning Top 5 Sell Bakery Items')\n",
    "plt.bar(firstMorning['Item'].value_counts().index[:5],firstMorning['Item'].value_counts()[:5], width = 0.7, color=\"blue\",linewidth=0.4)\n",
    "plt.show()"
   ]
  }
 ],
 "metadata": {
  "kernelspec": {
   "display_name": "Python 3",
   "language": "python",
   "name": "python3"
  },
  "language_info": {
   "codemirror_mode": {
    "name": "ipython",
    "version": 3
   },
   "file_extension": ".py",
   "mimetype": "text/x-python",
   "name": "python",
   "nbconvert_exporter": "python",
   "pygments_lexer": "ipython3",
   "version": "3.7.0"
  }
 },
 "nbformat": 4,
 "nbformat_minor": 2
}
